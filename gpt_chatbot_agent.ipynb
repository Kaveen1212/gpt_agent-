{
  "nbformat": 4,
  "nbformat_minor": 0,
  "metadata": {
    "colab": {
      "provenance": [],
      "authorship_tag": "ABX9TyNjt19us+195LrkW98Fs+52",
      "include_colab_link": true
    },
    "kernelspec": {
      "name": "python3",
      "display_name": "Python 3"
    },
    "language_info": {
      "name": "python"
    }
  },
  "cells": [
    {
      "cell_type": "markdown",
      "metadata": {
        "id": "view-in-github",
        "colab_type": "text"
      },
      "source": [
        "<a href=\"https://colab.research.google.com/github/Kaveen1212/gpt_agent-/blob/main/gpt_chatbot_agent.ipynb\" target=\"_parent\"><img src=\"https://colab.research.google.com/assets/colab-badge.svg\" alt=\"Open In Colab\"/></a>"
      ]
    },
    {
      "cell_type": "code",
      "execution_count": 2,
      "metadata": {
        "colab": {
          "base_uri": "https://localhost:8080/"
        },
        "id": "tWQybgRmF5c6",
        "outputId": "8403ddc7-bc94-4340-c343-6f74f37831a9"
      },
      "outputs": [
        {
          "output_type": "stream",
          "name": "stdout",
          "text": [
            "\u001b[?25l   \u001b[90m━━━━━━━━━━━━━━━━━━━━━━━━━━━━━━━━━━━━━━━━\u001b[0m \u001b[32m0.0/70.6 kB\u001b[0m \u001b[31m?\u001b[0m eta \u001b[36m-:--:--\u001b[0m\r\u001b[2K   \u001b[91m━━━━━\u001b[0m\u001b[91m╸\u001b[0m\u001b[90m━━━━━━━━━━━━━━━━━━━━━━━━━━━━━━━━━━\u001b[0m \u001b[32m10.2/70.6 kB\u001b[0m \u001b[31m?\u001b[0m eta \u001b[36m-:--:--\u001b[0m\r\u001b[2K   \u001b[91m━━━━━━━━━━━━━━━━━━━━━━━━━━━━━\u001b[0m\u001b[90m╺\u001b[0m\u001b[90m━━━━━━━━━━\u001b[0m \u001b[32m51.2/70.6 kB\u001b[0m \u001b[31m614.1 kB/s\u001b[0m eta \u001b[36m0:00:01\u001b[0m\r\u001b[2K   \u001b[91m━━━━━━━━━━━━━━━━━━━━━━━━━━━━━━━━━━\u001b[0m\u001b[91m╸\u001b[0m\u001b[90m━━━━━\u001b[0m \u001b[32m61.4/70.6 kB\u001b[0m \u001b[31m745.5 kB/s\u001b[0m eta \u001b[36m0:00:01\u001b[0m\r\u001b[2K   \u001b[90m━━━━━━━━━━━━━━━━━━━━━━━━━━━━━━━━━━━━━━━━\u001b[0m \u001b[32m70.6/70.6 kB\u001b[0m \u001b[31m506.1 kB/s\u001b[0m eta \u001b[36m0:00:00\u001b[0m\n",
            "\u001b[?25h"
          ]
        }
      ],
      "source": [
        "!pip install langchain -qU\n",
        "!pip install langchain-openai -qU"
      ]
    },
    {
      "cell_type": "code",
      "source": [
        "import os\n",
        "from google.colab import userdata"
      ],
      "metadata": {
        "id": "w_8uAZ3XGvVP"
      },
      "execution_count": 3,
      "outputs": []
    },
    {
      "cell_type": "markdown",
      "source": [
        "LLM Initialize"
      ],
      "metadata": {
        "id": "eQJ2825kIBkx"
      }
    },
    {
      "cell_type": "code",
      "source": [
        "from langchain_openai import ChatOpenAI\n",
        "os.environ['OPENAI_API_KEY'] = userdata.get('OPENAI_API_KEY')\n",
        "\n",
        "\n",
        "llm = ChatOpenAI(\n",
        "    model= \"gpt-4\",\n",
        "    temperature=0\n",
        ")"
      ],
      "metadata": {
        "id": "LR3M8KbLHBmM"
      },
      "execution_count": 4,
      "outputs": []
    },
    {
      "cell_type": "markdown",
      "source": [
        "Ptompt Template"
      ],
      "metadata": {
        "id": "cCt8CDvHIJy4"
      }
    },
    {
      "cell_type": "code",
      "source": [
        "from langchain_core.prompts import ChatPromptTemplate\n",
        "prompt = ChatPromptTemplate.from_messages(\n",
        "    [\n",
        "        (\"system\", \"Act as a lead senior HR manager. You are a helpful assistant that manages HR-related tasks, provides guidance on recruitment, employee relations, performance management, and company policy compliance. Respond professionally, empathetically, and with a strategic HR mindset.\"),\n",
        "        (\"user\", \"{question}\")\n",
        "    ]\n",
        ")"
      ],
      "metadata": {
        "id": "bmi9gZa8H6-V"
      },
      "execution_count": 5,
      "outputs": []
    },
    {
      "cell_type": "markdown",
      "source": [
        "Output Parser"
      ],
      "metadata": {
        "id": "disJ1zk0K0be"
      }
    },
    {
      "cell_type": "code",
      "source": [
        "from langchain_core.output_parsers import StrOutputParser\n",
        "\n",
        "parser = StrOutputParser()"
      ],
      "metadata": {
        "id": "2dL7f4QGLl7D"
      },
      "execution_count": 6,
      "outputs": []
    },
    {
      "cell_type": "code",
      "source": [
        "chain = prompt | llm | parser\n",
        "\n",
        "question = \"How to make the salarys in the employeer\"\n",
        "response = chain.invoke({\"question\": question})\n",
        "\n",
        "print (response)"
      ],
      "metadata": {
        "colab": {
          "base_uri": "https://localhost:8080/"
        },
        "id": "7m-WZPxKN26z",
        "outputId": "d030bbd4-6aba-4923-84c0-45734bf8671e"
      },
      "execution_count": 7,
      "outputs": [
        {
          "output_type": "stream",
          "name": "stdout",
          "text": [
            "As a senior HR manager, I can guide you through the process of setting up a salary structure for your employees. Here are the steps:\n",
            "\n",
            "1. **Job Analysis:** Understand the roles and responsibilities of each job position. This will help you determine the value of each job in your organization.\n",
            "\n",
            "2. **Salary Benchmarking:** Research the market rates for each job position. You can use salary surveys or online tools to understand what other companies in your industry are paying for similar roles.\n",
            "\n",
            "3. **Create Salary Ranges:** Based on your research, create a salary range for each position. The range should have a minimum, midpoint, and maximum pay rate. The minimum is the lowest amount you'll pay someone in that role, the midpoint is the average, and the maximum is the highest amount you'll pay.\n",
            "\n",
            "4. **Develop a Salary Structure:** You can create a salary structure based on job levels or grades. Each grade will have a different salary range, and positions will be placed in grades based on their value to the organization.\n",
            "\n",
            "5. **Consider Other Benefits:** Salary is not the only form of compensation. Consider other benefits like health insurance, retirement contributions, bonuses, and other perks. These can be a part of your overall compensation strategy.\n",
            "\n",
            "6. **Review and Update Regularly:** The job market is dynamic, so it's important to review and update your salary structure regularly to ensure it remains competitive.\n",
            "\n",
            "Remember, transparency and fairness are key when it comes to salary. Employees should understand how their pay is determined and feel that they are being compensated fairly for their work.\n"
          ]
        }
      ]
    },
    {
      "cell_type": "markdown",
      "source": [
        "Prompt template for Dynamic Interaction"
      ],
      "metadata": {
        "id": "tF4d9jhw42Y2"
      }
    },
    {
      "cell_type": "code",
      "source": [
        "from langchain_core.prompts import MessagesPlaceholder\n",
        "from langchain_core.messages import HumanMessage, AIMessage, SystemMessage\n",
        "prompt = ChatPromptTemplate.from_messages(\n",
        "    [\n",
        "        SystemMessage(content = \"Act as a lead senior HR manager. and you are an intelligent chatbot. Answer the following question.\"),\n",
        "        MessagesPlaceholder(variable_name=\"question\")\n",
        "    ]\n",
        ")"
      ],
      "metadata": {
        "id": "aDMPpRV5RaYK"
      },
      "execution_count": 8,
      "outputs": []
    },
    {
      "cell_type": "code",
      "source": [
        "chain = prompt |llm | parser"
      ],
      "metadata": {
        "id": "ZnCo6F0x6Hbj"
      },
      "execution_count": 9,
      "outputs": []
    },
    {
      "cell_type": "code",
      "source": [
        "question = \"How to make the first interview in the employee\"\n",
        "\n",
        "response = chain.invoke({\"question\": [HumanMessage(content=question)]})\n",
        "\n",
        "print(response)"
      ],
      "metadata": {
        "colab": {
          "base_uri": "https://localhost:8080/"
        },
        "id": "08LuOa4_6Nru",
        "outputId": "142121dc-5b70-4fa5-b7e6-abaec7926f32"
      },
      "execution_count": 11,
      "outputs": [
        {
          "output_type": "stream",
          "name": "stdout",
          "text": [
            "The first interview with a potential employee is a crucial step in the hiring process. Here's a step-by-step guide on how to conduct it:\n",
            "\n",
            "1. Preparation: Before the interview, thoroughly review the candidate's resume and job application. Understand the job requirements and prepare a list of questions that will help you assess the candidate's skills, experience, and fit for the role.\n",
            "\n",
            "2. Setting the Stage: Start the interview by introducing yourself and explaining the interview process. This will help the candidate feel more comfortable.\n",
            "\n",
            "3. Open-Ended Questions: Ask open-ended questions that allow the candidate to provide detailed responses. This will give you a better understanding of their capabilities and how they handle different situations.\n",
            "\n",
            "4. Behavioral Questions: Use behavioral interview questions to understand how the candidate has handled situations in the past. This can give you insight into how they might perform in the future.\n",
            "\n",
            "5. Job Specific Questions: Ask questions specific to the job role to assess the candidate's technical skills and knowledge.\n",
            "\n",
            "6. Candidate's Turn: Allow the candidate to ask their own questions. This can give you insight into what's important to them and also gives them a chance to determine if the company is a good fit for them.\n",
            "\n",
            "7. Wrap Up: Conclude the interview by letting the candidate know what the next steps are and when they can expect to hear back from you.\n",
            "\n",
            "8. Post-Interview Evaluation: After the interview, evaluate the candidate based on their responses and your impressions during the interview. This will help you decide whether to move forward with the candidate in the hiring process.\n",
            "\n",
            "Remember, the goal of the first interview is not just to assess the candidate, but also to give them a positive impression of your company. So, be respectful, listen carefully, and show genuine interest in getting to know them.\n"
          ]
        }
      ]
    },
    {
      "cell_type": "markdown",
      "source": [
        "Conversation History"
      ],
      "metadata": {
        "id": "J9Kh13Cl7zuA"
      }
    },
    {
      "cell_type": "code",
      "source": [
        "from langchain_core.prompts import MessagesPlaceholder\n",
        "from langchain_core.messages import HumanMessage, AIMessage, SystemMessage\n",
        "prompt = ChatPromptTemplate.from_messages(\n",
        "    [\n",
        "        SystemMessage(content = \"you are an intelligent chatbot. Answer the following question.\"),\n",
        "        HumanMessage(content=\"my name is Kaveen, MAS holding HR manager\"),\n",
        "        AIMessage(content=\"Hi Kaveen!, nice to meet you, How can I help you?\"),\n",
        "        MessagesPlaceholder(variable_name=\"question\")\n",
        "    ]\n",
        ")"
      ],
      "metadata": {
        "id": "Fxrq6cne613W"
      },
      "execution_count": 27,
      "outputs": []
    },
    {
      "cell_type": "code",
      "source": [
        "chain = prompt | llm | parser"
      ],
      "metadata": {
        "id": "gLfb7mPZ86tc"
      },
      "execution_count": 28,
      "outputs": []
    },
    {
      "cell_type": "code",
      "source": [],
      "metadata": {
        "colab": {
          "base_uri": "https://localhost:8080/"
        },
        "id": "l5TvTDNk9TGs",
        "outputId": "0118728d-0a90-4c03-83f7-0c2967c54a36"
      },
      "execution_count": 31,
      "outputs": [
        {
          "output_type": "stream",
          "name": "stdout",
          "text": [
            "You are Kaveen, the HR manager at MAS Holdings.\n"
          ]
        }
      ]
    },
    {
      "cell_type": "markdown",
      "source": [
        "Dinamic Conversation History"
      ],
      "metadata": {
        "id": "EwBa4HEtCwNy"
      }
    },
    {
      "cell_type": "code",
      "source": [
        "from langchain_core.prompts import MessagesPlaceholder\n",
        "from langchain_core.messages import HumanMessage, AIMessage, SystemMessage\n",
        "prompt = ChatPromptTemplate.from_messages(\n",
        "    [\n",
        "        SystemMessage(content = \"Act as a lead senior HR manager. and you are an intelligent chatbot. Answer the following question.\"),\n",
        "        MessagesPlaceholder(variable_name=\"question\"),\n",
        "        MessagesPlaceholder(variable_name=\"history\")\n",
        "    ]\n",
        ")"
      ],
      "metadata": {
        "id": "SsApdf5a9hFd"
      },
      "execution_count": 32,
      "outputs": []
    },
    {
      "cell_type": "code",
      "source": [
        "history =[\n",
        "    HumanMessage(content=\"my name is Kaveen, MAS holding HR manager\"),\n",
        "    AIMessage(content = \"Hi Kaveen!, nice to meet you, How can I help you?\"),\n",
        "    HumanMessage(content = \"what is 2+2\"),\n",
        "    AIMessage(content=\"4\")\n",
        "]"
      ],
      "metadata": {
        "id": "NTdmBMGoDA4S"
      },
      "execution_count": 34,
      "outputs": []
    },
    {
      "cell_type": "code",
      "source": [
        "chain =  prompt | llm | parser"
      ],
      "metadata": {
        "id": "-WplxNMVDL1N"
      },
      "execution_count": 35,
      "outputs": []
    },
    {
      "cell_type": "code",
      "source": [
        "question = \"what is my last question?\"\n",
        "\n",
        "response = chain.invoke({\"history\": history, \"question\": [HumanMessage(content=question)]})\n",
        "\n",
        "history.extend([HumanMessage(content=question), AIMessage(content=response)])\n",
        "\n",
        "print (response)\n",
        "\n"
      ],
      "metadata": {
        "colab": {
          "base_uri": "https://localhost:8080/"
        },
        "id": "O-CPocTbD2mC",
        "outputId": "82a1f522-bb20-400f-f92c-84471bb963b8"
      },
      "execution_count": 39,
      "outputs": [
        {
          "output_type": "stream",
          "name": "stdout",
          "text": [
            "You are Kaveen, the HR manager at MAS Holdings.\n"
          ]
        }
      ]
    },
    {
      "cell_type": "code",
      "source": [
        "history"
      ],
      "metadata": {
        "colab": {
          "base_uri": "https://localhost:8080/"
        },
        "id": "JjEGTcowE2c2",
        "outputId": "348fb1e4-12d6-4136-81bf-8528a52ca2b6"
      },
      "execution_count": 38,
      "outputs": [
        {
          "output_type": "execute_result",
          "data": {
            "text/plain": [
              "[HumanMessage(content='my name is Kaveen, MAS holding HR manager', additional_kwargs={}, response_metadata={}),\n",
              " AIMessage(content='Hi Kaveen!, nice to meet you, How can I help you?', additional_kwargs={}, response_metadata={}),\n",
              " HumanMessage(content='what is 2+2', additional_kwargs={}, response_metadata={}),\n",
              " AIMessage(content='4', additional_kwargs={}, response_metadata={}),\n",
              " HumanMessage(content='Who I am ?', additional_kwargs={}, response_metadata={}),\n",
              " AIMessage(content='The answer to 2+2 is 4.', additional_kwargs={}, response_metadata={})]"
            ]
          },
          "metadata": {},
          "execution_count": 38
        }
      ]
    },
    {
      "cell_type": "code",
      "source": [],
      "metadata": {
        "id": "0KzHgpGYG9iy"
      },
      "execution_count": null,
      "outputs": []
    }
  ]
}